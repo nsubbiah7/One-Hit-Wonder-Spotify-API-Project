{
 "cells": [
  {
   "cell_type": "code",
   "execution_count": 2,
   "metadata": {},
   "outputs": [],
   "source": [
    "import spotipy\n",
    "from spotipy.oauth2 import SpotifyClientCredentials\n",
    "import pandas as pd\n",
    "import time\n",
    "\n",
    "client_id = ####\n",
    "client_secret = ####\n",
    "\n",
    "client_credentials_manager = SpotifyClientCredentials(client_id, client_secret)\n",
    "#using the spotipy library to use the Spotify API\n",
    "spotify = spotipy.Spotify(client_credentials_manager=client_credentials_manager)"
   ]
  },
  {
   "cell_type": "code",
   "execution_count": null,
   "metadata": {},
   "outputs": [
    {
     "name": "stdout",
     "output_type": "stream",
     "text": [
      "1\n",
      "2\n",
      "3\n",
      "4\n",
      "5\n",
      "6\n",
      "7\n",
      "8\n",
      "9\n",
      "10\n",
      "11\n",
      "12\n",
      "13\n",
      "14\n",
      "15\n",
      "16\n",
      "17\n",
      "18\n",
      "19\n",
      "20\n",
      "21\n",
      "22\n",
      "23\n",
      "24\n",
      "25\n",
      "26\n",
      "27\n",
      "28\n",
      "29\n",
      "30\n",
      "31\n",
      "32\n",
      "33\n",
      "34\n",
      "35\n",
      "36\n",
      "37\n",
      "38\n",
      "39\n",
      "40\n",
      "41\n",
      "42\n",
      "43\n",
      "44\n",
      "45\n",
      "46\n",
      "47\n",
      "48\n",
      "49\n",
      "50\n",
      "51\n",
      "52\n",
      "53\n",
      "54\n",
      "55\n",
      "56\n",
      "57\n",
      "58\n",
      "59\n",
      "60\n",
      "61\n",
      "62\n",
      "63\n",
      "64\n",
      "65\n",
      "66\n",
      "67\n",
      "68\n",
      "69\n",
      "70\n",
      "71\n",
      "72\n",
      "73\n",
      "74\n",
      "75\n",
      "76\n",
      "77\n",
      "78\n",
      "79\n",
      "80\n",
      "81\n",
      "82\n",
      "83\n",
      "84\n",
      "85\n",
      "86\n",
      "87\n",
      "88\n",
      "89\n",
      "90\n",
      "91\n",
      "92\n"
     ]
    }
   ],
   "source": [
    "import spotipy\n",
    "\n",
    "spotify = spotipy.Spotify(client_credentials_manager=client_credentials_manager)\n",
    "\n",
    "import csv\n",
    "uri = ''\n",
    "pop_list = list()\n",
    "artist_list = list()\n",
    "i = 0 #number of uris\n",
    "object_list = list()\n",
    "\n",
    "import timeit\n",
    "start = timeit.default_timer()\n",
    "#gets all of the artist objects that correspond to the uris in artisturis.csv\n",
    "with open('artisturis.csv') as csv_file:\n",
    "    csv_reader = csv.reader(csv_file, delimiter=',')\n",
    "    for row in csv_file:\n",
    "        for x in range(len(row)):\n",
    "            uri += row[x]\n",
    "        try:\n",
    "            new_row = uri.strip() #takes off leading and trailing whitespaces\n",
    "            track_object = spotify.artist_top_tracks(new_row)\n",
    "            object_list.append(track_object)\n",
    "            i = i + 1\n",
    "        except:\n",
    "            i = i + 1\n",
    "stop = timeit.default_timer()\n",
    "print ('Time to run this code (in seconds):', stop - start)"
   ]
  },
  {
   "cell_type": "code",
   "execution_count": 2,
   "metadata": {},
   "outputs": [
    {
     "name": "stdout",
     "output_type": "stream",
     "text": [
      "9.443876640849153\n",
      "8.0\n"
     ]
    }
   ],
   "source": [
    "import pandas as pd\n",
    "import numpy as np\n",
    "data = pd.read_csv('artistobjects.txt',\n",
    "                   sep=\",\",\n",
    "                   header=None,\n",
    "                   engine='python')\n",
    "\n",
    "diff_list = list()\n",
    "#calculates the diff score\n",
    "for i in range(67267):\n",
    "    best = data[0][i]\n",
    "    second = data[1][i]\n",
    "    third = data[2][i]\n",
    "    fourth = data[3][i]\n",
    "    fifth = data[4][i]\n",
    "    \n",
    "    diff = best - (second + third + fourth + fifth)/4\n",
    "    diff_list.append(diff)"
   ]
  },
  {
   "cell_type": "code",
   "execution_count": 3,
   "metadata": {},
   "outputs": [
    {
     "name": "stdout",
     "output_type": "stream",
     "text": [
      "0.0\n",
      "1.0\n",
      "2.25\n",
      "3.25\n",
      "4.0\n",
      "4.75\n",
      "5.5\n",
      "6.25\n",
      "7.0\n",
      "8.0\n",
      "8.75\n",
      "9.75\n",
      "10.75\n",
      "12.0\n",
      "13.5\n",
      "15.0\n",
      "17.25\n",
      "20.25\n",
      "25.0\n",
      "68.0\n"
     ]
    }
   ],
   "source": [
    "import numpy as np\n",
    "#printing out the diff scores corresponding to the different percentiles\n",
    "print(np.percentile(diff_list,5))\n",
    "print(np.percentile(diff_list,10))\n",
    "print(np.percentile(diff_list,15))\n",
    "print(np.percentile(diff_list,20))\n",
    "print(np.percentile(diff_list,25))\n",
    "print(np.percentile(diff_list,30))\n",
    "print(np.percentile(diff_list,35))\n",
    "print(np.percentile(diff_list,40))\n",
    "print(np.percentile(diff_list,45))\n",
    "print(np.percentile(diff_list,50))\n",
    "print(np.percentile(diff_list,55))\n",
    "print(np.percentile(diff_list,60))\n",
    "print(np.percentile(diff_list,65))\n",
    "print(np.percentile(diff_list,70))\n",
    "print(np.percentile(diff_list,75))\n",
    "print(np.percentile(diff_list,80))\n",
    "print(np.percentile(diff_list,85))\n",
    "print(np.percentile(diff_list,90))\n",
    "print(np.percentile(diff_list,95))\n",
    "print(np.percentile(diff_list,100))"
   ]
  },
  {
   "cell_type": "code",
   "execution_count": 10,
   "metadata": {},
   "outputs": [
    {
     "data": {
      "text/plain": [
       "<matplotlib.legend.Legend at 0x12e5a6f50>"
      ]
     },
     "execution_count": 10,
     "metadata": {},
     "output_type": "execute_result"
    },
    {
     "data": {
      "image/png": "[encoded data removed]",
      "text/plain": [
       "<Figure size 576x396 with 1 Axes>"
      ]
     },
     "metadata": {},
     "output_type": "display_data"
    }
   ],
   "source": [
    "#graph showing the diff scores and percentile\n",
    "import matplotlib\n",
    "from matplotlib import pyplot as plt\n",
    "import seaborn as sns\n",
    "%matplotlib inline\n",
    "plt.style.use('seaborn') # pretty matplotlib plots\n",
    "\n",
    "x_list = [5, 10, 15, 20, 25, 30, 35, 40, 45, 50, 55, 60, 65, 70, 75, 80, 85, 90, 95, 100]\n",
    "y_list = [0.0, 1.0, 2.25, 3.25, 4.0, 4.75, 5.5, 6.25, 7.0, 8.0, 8.75, 9.75, 10.75, 12.0, 13.5, 15.0, 17.25, 20.25, 25.0, 68.0]\n",
    "plt.xlabel('percentile');\n",
    "plt.ylabel('difference');\n",
    "plt.plot(x_list, y_list, label=\"difference\", color= 'blue', marker='o')   \n",
    "plt.legend(loc='upper left', frameon=True)"
   ]
  }
 ],
 "metadata": {
  "kernelspec": {
   "display_name": "Python 3",
   "language": "python",
   "name": "python3"
  },
  "language_info": {
   "codemirror_mode": {
    "name": "ipython",
    "version": 3
   },
   "file_extension": ".py",
   "mimetype": "text/x-python",
   "name": "python",
   "nbconvert_exporter": "python",
   "pygments_lexer": "ipython3",
   "version": "3.8.5"
  }
 },
 "nbformat": 4,
 "nbformat_minor": 4
}
